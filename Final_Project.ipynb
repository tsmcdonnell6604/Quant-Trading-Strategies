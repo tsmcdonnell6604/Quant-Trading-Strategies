{
 "cells": [
  {
   "attachments": {},
   "cell_type": "markdown",
   "metadata": {},
   "source": [
    "# FINM 33150 Project Draft - Trading Volatility\n",
    "\n",
    "Sean Lin (STUDENT ID) | Thomas McDonnell (STUDENT ID) | Ben Panovich (12365148) | Madison Rusch (12365298)\n",
    "\n",
    "***\n",
    "\n",
    "## 1 Introduction\n",
    "\n",
    "In this notebook, we show the premise of what will become our quantitative trading strategy. As a quick summary, our trading strategy will involve capitalizing on volatility through the prediction of VIX. We will capitalize on this volatility by trading equity index options with a delta-hedged position in hopes to mitigate risk market directional risk. In addition, we will also trade other assets that move with volatility, notably futures, currencies, and bonds."
   ]
  },
  {
   "cell_type": "code",
   "execution_count": 223,
   "metadata": {},
   "outputs": [],
   "source": [
    "import os\n",
    "import pandas as pd \n",
    "import numpy as np \n",
    "import functools \n",
    "import quandl \n",
    "from tqdm import tqdm\n",
    "from statsmodels.tsa.arima.model import ARIMA\n",
    "import warnings\n",
    "\n",
    "warnings.filterwarnings('ignore')"
   ]
  },
  {
   "cell_type": "code",
   "execution_count": 3,
   "metadata": {},
   "outputs": [],
   "source": [
    "KEY = os.getenv('QUANDL_KEY')\n",
    "quandl.ApiConfig.api_key = KEY # Insert your key here if you want to run the code yourself "
   ]
  },
  {
   "attachments": {},
   "cell_type": "markdown",
   "metadata": {},
   "source": [
    "## 2 Data\n",
    "\n",
    "For data, we'll be using a variety of data sources. More specifically, the majority of our price data will come from Quandl with historical options pricing data coming from Polygon. It's important to note that VIX price data isn't on Quandl and as a result, we obtained historical VIX data through CBOE's website. For prediction of VIX, we utilized the economic calendar, with data retrieved from [fxstreet.com](https://www.fxstreet.com/economic-calendar) and the Shanghai index, with data obtained from [investing.com](https://www.investing.com/indices/shanghai-composite). For some analysis, we also retrieved historical implied volatilities through the VOL Quandl database (though you may not have access if you haven't purchased the dataset). All the raw data is included with this notebook.\n",
    "\n",
    "***\n",
    "\n",
    "**2.1 Helper Functions**\n",
    "\n",
    "We first define helper functions `fetch_quandl` and `fetch_quandl_table` to retrieve data from Quandl databases."
   ]
  },
  {
   "cell_type": "code",
   "execution_count": 4,
   "metadata": {},
   "outputs": [],
   "source": [
    "# TODO: Add documentation for function\n",
    "@functools.lru_cache()\n",
    "def fetch_quandl(asset, begin_date = None, end_date = None):\n",
    "    '''\n",
    "    Description\n",
    "\n",
    "    Parameters:\n",
    "\n",
    "    Returns:\n",
    "    '''\n",
    "    qdata = quandl.get(asset,\n",
    "                      start_date = begin_date,\n",
    "                      end_date = end_date,\n",
    "                      paginate=True)\n",
    "    return qdata"
   ]
  },
  {
   "cell_type": "code",
   "execution_count": 5,
   "metadata": {},
   "outputs": [],
   "source": [
    "# TODO: Add documentation for function\n",
    "@functools.lru_cache()\n",
    "def fetch_quandl_table(table, ticker, begin_date = None, end_date = None):\n",
    "    '''\n",
    "    Description\n",
    "\n",
    "    Parameters:\n",
    "\n",
    "    Returns:\n",
    "    '''\n",
    "    qdata = quandl.get_table(table,\n",
    "                      date = { 'gte': begin_date, 'lte': end_date },\n",
    "                      qopts = {\"columns\":[\"date\", \"adj_close\", \"adj_volume\"]},\n",
    "                      ticker = ticker,\n",
    "                      paginate=True)\n",
    "    qdata = qdata.set_index('date').sort_index(ascending=True)\n",
    "    return qdata"
   ]
  },
  {
   "attachments": {},
   "cell_type": "markdown",
   "metadata": {},
   "source": [
    "***\n",
    "\n",
    "**2.1 Importing Data**\n",
    "\n",
    "Here, we will import the data needed for our predictions and analysis for our time period. We will first collect the data needed for predicting VIX."
   ]
  },
  {
   "cell_type": "code",
   "execution_count": 6,
   "metadata": {},
   "outputs": [],
   "source": [
    "START_DATE = '2014-01-01'\n",
    "END_DATE = '2022-12-23'"
   ]
  },
  {
   "attachments": {},
   "cell_type": "markdown",
   "metadata": {},
   "source": [
    "We will first collect VIX data. This was taken from CBOE's website. "
   ]
  },
  {
   "cell_type": "code",
   "execution_count": 7,
   "metadata": {},
   "outputs": [],
   "source": [
    "filename = './data/vix_data.csv'\n",
    "vix_data = pd.read_csv(filename)\n",
    "vix_data['DATE'] = pd.to_datetime(vix_data['DATE'])\n",
    "vix_data = vix_data.set_index('DATE')[['CLOSE']]\n",
    "vix_data = vix_data.loc[START_DATE:END_DATE]"
   ]
  },
  {
   "attachments": {},
   "cell_type": "markdown",
   "metadata": {},
   "source": [
    "We will now collect the economic calendar data. We obtain all the events considered *high importance* from FXStreet. In general, this consists of events like FOMC, CPI, Fed Chair Speeches, and Non-Farm Payroll."
   ]
  },
  {
   "cell_type": "code",
   "execution_count": 17,
   "metadata": {},
   "outputs": [],
   "source": [
    "filename = './data/economic_calendar.csv'\n",
    "event_data = pd.read_csv(filename)\n",
    "event_data['DATE'] = pd.to_datetime(event_data['Start']).dt.date\n",
    "event_data = event_data.set_index('DATE')"
   ]
  },
  {
   "attachments": {},
   "cell_type": "markdown",
   "metadata": {},
   "source": [
    "When considering days until an event, we want to consider the weekends as options pricing uses a full calendar year, not trading years (i.e theta decay applies over weekends). Thus, we want to calculate the time until an event (including weekends)."
   ]
  },
  {
   "cell_type": "code",
   "execution_count": 19,
   "metadata": {},
   "outputs": [],
   "source": [
    "idx = vix_data.index\n",
    "all_dates = pd.date_range(START_DATE,END_DATE)\n",
    "\n",
    "temp = vix_data.copy()\n",
    "temp.columns = ['VIX']\n",
    "temp = temp.reindex(idx, fill_value=None)\n",
    "temp['Event'] = np.where(temp.index.isin(event_data.index.values), True, False)\n",
    "temp['Days until Event'] = np.where(temp['Event'] == True, 0, vix_data.groupby((temp['Event'] == True).cumsum()).cumcount(ascending=False)+1)\n",
    "temp = temp.dropna(subset=['VIX'])\n",
    "temp = temp[['VIX', 'Days until Event']]"
   ]
  },
  {
   "attachments": {},
   "cell_type": "markdown",
   "metadata": {},
   "source": [
    "We will now obtain SPY data. We only want to consider US trading days. In other words, we only want to look at dates where SPY has a close (even if it's an early close)."
   ]
  },
  {
   "cell_type": "code",
   "execution_count": 10,
   "metadata": {},
   "outputs": [],
   "source": [
    "spy_data = fetch_quandl_table('QUOTEMEDIA/PRICES','SPY',begin_date=START_DATE,end_date=END_DATE)\n",
    "spy_data.columns = ['SPY', 'SPY Volume']\n",
    "trading_days = spy_data.index \n",
    "temp = temp.loc[temp.index.isin(trading_days)]"
   ]
  },
  {
   "attachments": {},
   "cell_type": "markdown",
   "metadata": {},
   "source": [
    "We will now import the Shanghai index data. This is used as the Shanghai Stock Exchange closes before the US Stock Exchange opens. This could potentially give us valuable information on the behavior of VIX during the next day as the global markets usually have some type of correlation."
   ]
  },
  {
   "cell_type": "code",
   "execution_count": 360,
   "metadata": {},
   "outputs": [],
   "source": [
    "filename = './data/ssec_data.csv'\n",
    "ssec_data = pd.read_csv(filename)\n",
    "ssec_data['Date'] = pd.to_datetime(ssec_data['Date'])\n",
    "ssec_data = ssec_data.set_index('Date')\n",
    "ssec_data = ssec_data.loc[ssec_data.index.isin(trading_days)].sort_index(ascending=True)\n",
    "ssec_data = ssec_data[['Price']].rename(columns={'Price':'SSEC'})\n",
    "ssec_data = ssec_data['SSEC'].str.replace(',','').astype(float).to_frame()"
   ]
  },
  {
   "attachments": {},
   "cell_type": "markdown",
   "metadata": {},
   "source": [
    "We'll now import Crude Oil futures data (CL). Since futures have quarterly expires, we will roll these over. "
   ]
  },
  {
   "cell_type": "code",
   "execution_count": 86,
   "metadata": {},
   "outputs": [
    {
     "name": "stderr",
     "output_type": "stream",
     "text": [
      "100%|██████████| 37/37 [00:00<00:00, 5691.68it/s]\n"
     ]
    }
   ],
   "source": [
    "securities = ['OWF/NYM_CL_CL']\n",
    "dates = ['H2014', 'M2014', 'U2014', 'Z2014',\n",
    "         'H2015', 'M2015', 'U2015', 'Z2015',\n",
    "         'H2016', 'M2016', 'U2016', 'Z2016',\n",
    "         'H2017', 'M2017', 'U2017', 'Z2017',\n",
    "         'H2018', 'M2018', 'U2018', 'Z2018',\n",
    "         'H2019', 'M2019', 'U2019', 'Z2019',\n",
    "         'H2020', 'M2020', 'U2020', 'Z2020',\n",
    "         'H2021', 'M2021', 'U2021', 'Z2021', \n",
    "         'H2022', 'M2022', 'U2022', 'Z2022',\n",
    "         'H2023']\n",
    "\n",
    "# Fetch NYM_RB_RB Data\n",
    "finalized_data = pd.DataFrame()\n",
    "security = securities[0]\n",
    "trim_start = START_DATE\n",
    "trim_end = END_DATE\n",
    "for month in tqdm(dates):\n",
    "  data = fetch_quandl(f'{security}_{month}_IVM', begin_date=trim_start, end_date=trim_end)\n",
    "  # data = clean_quandl_columns(data)\n",
    "  # data = data[data['DtT'] > 30]\n",
    "  if finalized_data.empty:\n",
    "    finalized_data = data\n",
    "  else:\n",
    "    finalized_data = pd.concat([finalized_data, data])\n",
    "  trim_start = finalized_data.index[-1] + pd.DateOffset(1)\n",
    "\n",
    "cl_data = finalized_data.copy()[['Future']].rename(columns={'Future':'CL'})"
   ]
  },
  {
   "cell_type": "code",
   "execution_count": 361,
   "metadata": {},
   "outputs": [
    {
     "data": {
      "text/html": [
       "<div>\n",
       "<style scoped>\n",
       "    .dataframe tbody tr th:only-of-type {\n",
       "        vertical-align: middle;\n",
       "    }\n",
       "\n",
       "    .dataframe tbody tr th {\n",
       "        vertical-align: top;\n",
       "    }\n",
       "\n",
       "    .dataframe thead th {\n",
       "        text-align: right;\n",
       "    }\n",
       "</style>\n",
       "<table border=\"1\" class=\"dataframe\">\n",
       "  <thead>\n",
       "    <tr style=\"text-align: right;\">\n",
       "      <th></th>\n",
       "      <th>VIX</th>\n",
       "      <th>Days until Event</th>\n",
       "      <th>SPY</th>\n",
       "      <th>SPY Volume</th>\n",
       "      <th>SSEC</th>\n",
       "      <th>CL</th>\n",
       "    </tr>\n",
       "  </thead>\n",
       "  <tbody>\n",
       "    <tr>\n",
       "      <th>2014-01-02</th>\n",
       "      <td>14.23</td>\n",
       "      <td>1.0</td>\n",
       "      <td>154.868957</td>\n",
       "      <td>119636900.0</td>\n",
       "      <td>2109.39</td>\n",
       "      <td>95.62</td>\n",
       "    </tr>\n",
       "    <tr>\n",
       "      <th>2014-01-03</th>\n",
       "      <td>13.76</td>\n",
       "      <td>0.0</td>\n",
       "      <td>154.843559</td>\n",
       "      <td>81390600.0</td>\n",
       "      <td>2083.14</td>\n",
       "      <td>94.14</td>\n",
       "    </tr>\n",
       "    <tr>\n",
       "      <th>2014-01-06</th>\n",
       "      <td>13.55</td>\n",
       "      <td>0.0</td>\n",
       "      <td>154.394837</td>\n",
       "      <td>108028200.0</td>\n",
       "      <td>2045.71</td>\n",
       "      <td>93.58</td>\n",
       "    </tr>\n",
       "    <tr>\n",
       "      <th>2014-01-07</th>\n",
       "      <td>12.92</td>\n",
       "      <td>1.0</td>\n",
       "      <td>155.343079</td>\n",
       "      <td>86144200.0</td>\n",
       "      <td>2047.32</td>\n",
       "      <td>93.84</td>\n",
       "    </tr>\n",
       "    <tr>\n",
       "      <th>2014-01-08</th>\n",
       "      <td>12.87</td>\n",
       "      <td>0.0</td>\n",
       "      <td>155.376951</td>\n",
       "      <td>96582300.0</td>\n",
       "      <td>2044.34</td>\n",
       "      <td>92.53</td>\n",
       "    </tr>\n",
       "    <tr>\n",
       "      <th>...</th>\n",
       "      <td>...</td>\n",
       "      <td>...</td>\n",
       "      <td>...</td>\n",
       "      <td>...</td>\n",
       "      <td>...</td>\n",
       "      <td>...</td>\n",
       "    </tr>\n",
       "    <tr>\n",
       "      <th>2022-12-19</th>\n",
       "      <td>22.42</td>\n",
       "      <td>3.0</td>\n",
       "      <td>380.020000</td>\n",
       "      <td>79633670.0</td>\n",
       "      <td>3107.11</td>\n",
       "      <td>75.44</td>\n",
       "    </tr>\n",
       "    <tr>\n",
       "      <th>2022-12-20</th>\n",
       "      <td>21.48</td>\n",
       "      <td>2.0</td>\n",
       "      <td>380.540000</td>\n",
       "      <td>74167078.0</td>\n",
       "      <td>3073.77</td>\n",
       "      <td>76.23</td>\n",
       "    </tr>\n",
       "    <tr>\n",
       "      <th>2022-12-21</th>\n",
       "      <td>20.07</td>\n",
       "      <td>1.0</td>\n",
       "      <td>386.230000</td>\n",
       "      <td>77994406.0</td>\n",
       "      <td>3068.41</td>\n",
       "      <td>78.24</td>\n",
       "    </tr>\n",
       "    <tr>\n",
       "      <th>2022-12-22</th>\n",
       "      <td>21.97</td>\n",
       "      <td>0.0</td>\n",
       "      <td>380.720000</td>\n",
       "      <td>99890854.0</td>\n",
       "      <td>3054.43</td>\n",
       "      <td>77.42</td>\n",
       "    </tr>\n",
       "    <tr>\n",
       "      <th>2022-12-23</th>\n",
       "      <td>20.87</td>\n",
       "      <td>0.0</td>\n",
       "      <td>382.910000</td>\n",
       "      <td>59746044.0</td>\n",
       "      <td>3045.87</td>\n",
       "      <td>79.64</td>\n",
       "    </tr>\n",
       "  </tbody>\n",
       "</table>\n",
       "<p>2331 rows × 6 columns</p>\n",
       "</div>"
      ],
      "text/plain": [
       "              VIX  Days until Event         SPY   SPY Volume     SSEC     CL\n",
       "2014-01-02  14.23               1.0  154.868957  119636900.0  2109.39  95.62\n",
       "2014-01-03  13.76               0.0  154.843559   81390600.0  2083.14  94.14\n",
       "2014-01-06  13.55               0.0  154.394837  108028200.0  2045.71  93.58\n",
       "2014-01-07  12.92               1.0  155.343079   86144200.0  2047.32  93.84\n",
       "2014-01-08  12.87               0.0  155.376951   96582300.0  2044.34  92.53\n",
       "...           ...               ...         ...          ...      ...    ...\n",
       "2022-12-19  22.42               3.0  380.020000   79633670.0  3107.11  75.44\n",
       "2022-12-20  21.48               2.0  380.540000   74167078.0  3073.77  76.23\n",
       "2022-12-21  20.07               1.0  386.230000   77994406.0  3068.41  78.24\n",
       "2022-12-22  21.97               0.0  380.720000   99890854.0  3054.43  77.42\n",
       "2022-12-23  20.87               0.0  382.910000   59746044.0  3045.87  79.64\n",
       "\n",
       "[2331 rows x 6 columns]"
      ]
     },
     "metadata": {},
     "output_type": "display_data"
    }
   ],
   "source": [
    "all_data = pd.concat([temp, spy_data, ssec_data, cl_data], axis=1)\n",
    "display(all_data)"
   ]
  },
  {
   "cell_type": "code",
   "execution_count": 362,
   "metadata": {},
   "outputs": [],
   "source": [
    "all_data['VIX Returns'] = all_data['VIX'].pct_change()\n",
    "all_data['SPY Returns'] = all_data['SPY'].pct_change()\n",
    "all_data['SSEC Returns'] = all_data['SSEC'].pct_change()\n",
    "all_data['CL Returns'] = all_data['CL'].pct_change()\n",
    "\n",
    "predictors = all_data[['Days until Event','SPY Volume','VIX Returns','SPY Returns','SSEC Returns','CL Returns']].dropna()"
   ]
  },
  {
   "cell_type": "code",
   "execution_count": 368,
   "metadata": {},
   "outputs": [],
   "source": [
    "predictors['VIX Returns (y)'] = predictors['VIX Returns'].shift(-1)\n",
    "predictors['SSEC Returns'] = predictors['SSEC Returns'].shift(-1)\n",
    "predictors = predictors.drop(columns=['VIX Returns'])\n",
    "\n",
    "predictors = predictors.dropna()"
   ]
  },
  {
   "attachments": {},
   "cell_type": "markdown",
   "metadata": {},
   "source": [
    "# 3 Predicting VIX"
   ]
  },
  {
   "cell_type": "code",
   "execution_count": 370,
   "metadata": {},
   "outputs": [],
   "source": [
    "from statsmodels.tsa.arima.model import ARIMA\n",
    "from statsmodels.graphics.tsaplots import plot_acf"
   ]
  },
  {
   "cell_type": "code",
   "execution_count": 396,
   "metadata": {},
   "outputs": [
    {
     "data": {
      "text/html": [
       "<div>\n",
       "<style scoped>\n",
       "    .dataframe tbody tr th:only-of-type {\n",
       "        vertical-align: middle;\n",
       "    }\n",
       "\n",
       "    .dataframe tbody tr th {\n",
       "        vertical-align: top;\n",
       "    }\n",
       "\n",
       "    .dataframe thead th {\n",
       "        text-align: right;\n",
       "    }\n",
       "</style>\n",
       "<table border=\"1\" class=\"dataframe\">\n",
       "  <thead>\n",
       "    <tr style=\"text-align: right;\">\n",
       "      <th></th>\n",
       "      <th>Days until Event</th>\n",
       "      <th>SPY Volume</th>\n",
       "      <th>SPY Returns</th>\n",
       "      <th>SSEC Returns</th>\n",
       "      <th>CL Returns</th>\n",
       "      <th>VIX Returns (y)</th>\n",
       "    </tr>\n",
       "  </thead>\n",
       "  <tbody>\n",
       "    <tr>\n",
       "      <th>2014-01-03</th>\n",
       "      <td>0.0</td>\n",
       "      <td>81390600.0</td>\n",
       "      <td>-0.000164</td>\n",
       "      <td>-0.001456</td>\n",
       "      <td>-0.015478</td>\n",
       "      <td>-0.015262</td>\n",
       "    </tr>\n",
       "    <tr>\n",
       "      <th>2014-01-06</th>\n",
       "      <td>0.0</td>\n",
       "      <td>108028200.0</td>\n",
       "      <td>-0.002898</td>\n",
       "      <td>-0.008179</td>\n",
       "      <td>-0.005949</td>\n",
       "      <td>-0.046494</td>\n",
       "    </tr>\n",
       "    <tr>\n",
       "      <th>2014-01-07</th>\n",
       "      <td>1.0</td>\n",
       "      <td>86144200.0</td>\n",
       "      <td>0.006142</td>\n",
       "      <td>-0.007062</td>\n",
       "      <td>0.002778</td>\n",
       "      <td>-0.003870</td>\n",
       "    </tr>\n",
       "    <tr>\n",
       "      <th>2014-01-08</th>\n",
       "      <td>0.0</td>\n",
       "      <td>96582300.0</td>\n",
       "      <td>0.000218</td>\n",
       "      <td>-0.001858</td>\n",
       "      <td>-0.013960</td>\n",
       "      <td>0.001554</td>\n",
       "    </tr>\n",
       "    <tr>\n",
       "      <th>2014-01-09</th>\n",
       "      <td>1.0</td>\n",
       "      <td>90683400.0</td>\n",
       "      <td>0.000654</td>\n",
       "      <td>0.008599</td>\n",
       "      <td>-0.006917</td>\n",
       "      <td>-0.058185</td>\n",
       "    </tr>\n",
       "  </tbody>\n",
       "</table>\n",
       "</div>"
      ],
      "text/plain": [
       "            Days until Event   SPY Volume  SPY Returns  SSEC Returns  \\\n",
       "2014-01-03               0.0   81390600.0    -0.000164     -0.001456   \n",
       "2014-01-06               0.0  108028200.0    -0.002898     -0.008179   \n",
       "2014-01-07               1.0   86144200.0     0.006142     -0.007062   \n",
       "2014-01-08               0.0   96582300.0     0.000218     -0.001858   \n",
       "2014-01-09               1.0   90683400.0     0.000654      0.008599   \n",
       "\n",
       "            CL Returns  VIX Returns (y)  \n",
       "2014-01-03   -0.015478        -0.015262  \n",
       "2014-01-06   -0.005949        -0.046494  \n",
       "2014-01-07    0.002778        -0.003870  \n",
       "2014-01-08   -0.013960         0.001554  \n",
       "2014-01-09   -0.006917        -0.058185  "
      ]
     },
     "metadata": {},
     "output_type": "display_data"
    }
   ],
   "source": [
    "START_TRAIN = '2014-01-01'\n",
    "END_TRAIN = '2022-01-01'\n",
    "START_TEST = END_TRAIN \n",
    "END_TEST = '2022-12-01'\n",
    "\n",
    "arima_data = predictors.loc[START_TRAIN:END_TEST]\n",
    "display(arima_data.head())"
   ]
  },
  {
   "cell_type": "code",
   "execution_count": 399,
   "metadata": {},
   "outputs": [],
   "source": [
    "predicted_results = pd.DataFrame(index = predictors.loc[START_TEST:END_TEST].index,columns=['predictions'])\n",
    "start, end = 0, 252\n",
    "for i in range(len(arima_data.loc[START_TEST:END_TEST])-1):\n",
    "    model = ARIMA(arima_data.iloc[start:end]['VIX Returns (y)'], order=(1,1,1), exog=arima_data.iloc[start:end,:5]).fit()\n",
    "    forecast = model.forecast(1, exog=arima_data.iloc[end+1,:5])\n",
    "    start, end = start, end + 1 \n",
    "\n",
    "    predicted_results.iloc[i] = forecast\n",
    "\n",
    "predicted_results = predicted_results.dropna()"
   ]
  },
  {
   "cell_type": "code",
   "execution_count": 400,
   "metadata": {},
   "outputs": [
    {
     "data": {
      "text/html": [
       "<div>\n",
       "<style scoped>\n",
       "    .dataframe tbody tr th:only-of-type {\n",
       "        vertical-align: middle;\n",
       "    }\n",
       "\n",
       "    .dataframe tbody tr th {\n",
       "        vertical-align: top;\n",
       "    }\n",
       "\n",
       "    .dataframe thead th {\n",
       "        text-align: right;\n",
       "    }\n",
       "</style>\n",
       "<table border=\"1\" class=\"dataframe\">\n",
       "  <thead>\n",
       "    <tr style=\"text-align: right;\">\n",
       "      <th></th>\n",
       "      <th>predictions</th>\n",
       "      <th>actual</th>\n",
       "    </tr>\n",
       "  </thead>\n",
       "  <tbody>\n",
       "    <tr>\n",
       "      <th>2022-01-03</th>\n",
       "      <td>-0.012374</td>\n",
       "      <td>0.018675</td>\n",
       "    </tr>\n",
       "    <tr>\n",
       "      <th>2022-01-04</th>\n",
       "      <td>0.16973</td>\n",
       "      <td>0.166765</td>\n",
       "    </tr>\n",
       "    <tr>\n",
       "      <th>2022-01-05</th>\n",
       "      <td>0.126037</td>\n",
       "      <td>-0.006082</td>\n",
       "    </tr>\n",
       "    <tr>\n",
       "      <th>2022-01-06</th>\n",
       "      <td>-0.11154</td>\n",
       "      <td>-0.043345</td>\n",
       "    </tr>\n",
       "    <tr>\n",
       "      <th>2022-01-07</th>\n",
       "      <td>-0.043213</td>\n",
       "      <td>0.034115</td>\n",
       "    </tr>\n",
       "    <tr>\n",
       "      <th>...</th>\n",
       "      <td>...</td>\n",
       "      <td>...</td>\n",
       "    </tr>\n",
       "    <tr>\n",
       "      <th>2022-11-23</th>\n",
       "      <td>0.026336</td>\n",
       "      <td>0.003918</td>\n",
       "    </tr>\n",
       "    <tr>\n",
       "      <th>2022-11-25</th>\n",
       "      <td>-0.017575</td>\n",
       "      <td>0.083415</td>\n",
       "    </tr>\n",
       "    <tr>\n",
       "      <th>2022-11-28</th>\n",
       "      <td>-0.05302</td>\n",
       "      <td>-0.014408</td>\n",
       "    </tr>\n",
       "    <tr>\n",
       "      <th>2022-11-29</th>\n",
       "      <td>0.051831</td>\n",
       "      <td>-0.059845</td>\n",
       "    </tr>\n",
       "    <tr>\n",
       "      <th>2022-11-30</th>\n",
       "      <td>-0.090637</td>\n",
       "      <td>-0.035957</td>\n",
       "    </tr>\n",
       "  </tbody>\n",
       "</table>\n",
       "<p>230 rows × 2 columns</p>\n",
       "</div>"
      ],
      "text/plain": [
       "           predictions    actual\n",
       "2022-01-03   -0.012374  0.018675\n",
       "2022-01-04     0.16973  0.166765\n",
       "2022-01-05    0.126037 -0.006082\n",
       "2022-01-06    -0.11154 -0.043345\n",
       "2022-01-07   -0.043213  0.034115\n",
       "...                ...       ...\n",
       "2022-11-23    0.026336  0.003918\n",
       "2022-11-25   -0.017575  0.083415\n",
       "2022-11-28    -0.05302 -0.014408\n",
       "2022-11-29    0.051831 -0.059845\n",
       "2022-11-30   -0.090637 -0.035957\n",
       "\n",
       "[230 rows x 2 columns]"
      ]
     },
     "execution_count": 400,
     "metadata": {},
     "output_type": "execute_result"
    }
   ],
   "source": [
    "predicted_results['actual'] = arima_data.loc[START_TEST:END_TEST,'VIX Returns (y)'][:-1]\n",
    "predicted_results "
   ]
  },
  {
   "cell_type": "code",
   "execution_count": 401,
   "metadata": {},
   "outputs": [
    {
     "data": {
      "text/plain": [
       "<AxesSubplot: >"
      ]
     },
     "execution_count": 401,
     "metadata": {},
     "output_type": "execute_result"
    },
    {
     "data": {
      "image/png": "[encoded data removed]",
      "text/plain": [
       "<Figure size 640x480 with 1 Axes>"
      ]
     },
     "metadata": {},
     "output_type": "display_data"
    }
   ],
   "source": [
    "predicted_results.plot()"
   ]
  },
  {
   "cell_type": "code",
   "execution_count": 402,
   "metadata": {},
   "outputs": [
    {
     "data": {
      "text/plain": [
       "0.49130434782608695"
      ]
     },
     "execution_count": 402,
     "metadata": {},
     "output_type": "execute_result"
    }
   ],
   "source": [
    "(np.sign(predicted_results['predictions']) == np.sign(predicted_results['actual'])).sum() / len(predicted_results)"
   ]
  },
  {
   "cell_type": "code",
   "execution_count": 404,
   "metadata": {},
   "outputs": [],
   "source": [
    "significant = predicted_results[predicted_results['actual'] > 0.05]"
   ]
  },
  {
   "cell_type": "code",
   "execution_count": 405,
   "metadata": {},
   "outputs": [
    {
     "data": {
      "text/plain": [
       "0.5348837209302325"
      ]
     },
     "execution_count": 405,
     "metadata": {},
     "output_type": "execute_result"
    }
   ],
   "source": [
    "(np.sign(significant['predictions']) == np.sign(significant['actual'])).sum() / len(significant)"
   ]
  }
 ],
 "metadata": {
  "kernelspec": {
   "display_name": "quant-trading-strats",
   "language": "python",
   "name": "python3"
  },
  "language_info": {
   "codemirror_mode": {
    "name": "ipython",
    "version": 3
   },
   "file_extension": ".py",
   "mimetype": "text/x-python",
   "name": "python",
   "nbconvert_exporter": "python",
   "pygments_lexer": "ipython3",
   "version": "3.10.8"
  },
  "orig_nbformat": 4,
  "vscode": {
   "interpreter": {
    "hash": "dec0134e5599f3232dbf7d5aed3afa2103e6e021cc09c953a3e3decdf62c7692"
   }
  }
 },
 "nbformat": 4,
 "nbformat_minor": 2
}
